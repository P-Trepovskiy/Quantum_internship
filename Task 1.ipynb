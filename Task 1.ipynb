{
  "nbformat": 4,
  "nbformat_minor": 0,
  "metadata": {
    "colab": {
      "provenance": []
    },
    "kernelspec": {
      "name": "python3",
      "display_name": "Python 3"
    },
    "language_info": {
      "name": "python"
    }
  },
  "cells": [
    {
      "cell_type": "code",
      "source": [
        "def my_sum(n:int):\n",
        "  total_sum = (n * (n+1)) // 2\n",
        "  return total_sum"
      ],
      "metadata": {
        "id": "TRHPUrDyKbtq",
        "colab": {
          "base_uri": "https://localhost:8080/"
        },
        "outputId": "8970249e-a5d7-4bec-fc95-02e67e4bd50b"
      },
      "execution_count": null,
      "outputs": [
        {
          "output_type": "execute_result",
          "data": {
            "text/plain": [
              "50000000000000000000000005000000000000000000000000"
            ]
          },
          "metadata": {},
          "execution_count": 2
        }
      ]
    }
  ]
}