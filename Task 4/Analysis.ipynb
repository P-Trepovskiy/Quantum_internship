{
  "nbformat": 4,
  "nbformat_minor": 0,
  "metadata": {
    "colab": {
      "provenance": []
    },
    "kernelspec": {
      "name": "python3",
      "display_name": "Python 3"
    },
    "language_info": {
      "name": "python"
    },
    "accelerator": "TPU",
    "gpuClass": "standard"
  },
  "cells": [
    {
      "cell_type": "markdown",
      "source": [
        "Before starting this code, I rasterized the masks folder into one .tif file using QGIS so that it can be opened effectively. File is attached in the same folder as this notebook."
      ],
      "metadata": {
        "id": "rGVpznu8ebO8"
      }
    },
    {
      "cell_type": "code",
      "execution_count": null,
      "metadata": {
        "colab": {
          "base_uri": "https://localhost:8080/"
        },
        "id": "K0MYGXJQ86Z1",
        "outputId": "cd84a7c0-9119-4afb-a850-6990e7f088f3"
      },
      "outputs": [
        {
          "output_type": "stream",
          "name": "stdout",
          "text": [
            "(10980, 10980)\n"
          ]
        }
      ],
      "source": [
        "# Please run the 2 lines below on the first run, then comment it back\n",
        "# !pip install rasterio\n",
        "# !pip install geopandas\n",
        "import rasterio\n",
        "import numpy as np\n",
        "\n",
        "sentinel_file = \"/content/drive/MyDrive/ColabNotebooks/T36UXV_20200406T083559_TCI_10m.jp2\"\n",
        "sentinel_data = rasterio.open(sentinel_file)\n",
        "\n",
        "from sklearn.model_selection import train_test_split\n",
        "\n",
        "sentinel_data_norm = sentinel_data.read() / 255.0\n",
        "\n",
        "\n",
        "mask = rasterio.open('/content/drive/MyDrive/ColabNotebooks/OUTPUT.tif').read().reshape((10980, 10980))\n",
        "sentinel_data_norm = sentinel_data_norm.transpose()\n",
        "\n"
      ]
    },
    {
      "cell_type": "code",
      "source": [
        "X_train, X_val, y_train, y_val = train_test_split(sentinel_data_norm, mask, test_size=0.33)"
      ],
      "metadata": {
        "id": "U7qfrMSuHo7J"
      },
      "execution_count": null,
      "outputs": []
    }
  ]
}