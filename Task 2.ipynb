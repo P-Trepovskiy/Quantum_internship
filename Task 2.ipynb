{
  "nbformat": 4,
  "nbformat_minor": 0,
  "metadata": {
    "colab": {
      "provenance": []
    },
    "kernelspec": {
      "name": "python3",
      "display_name": "Python 3"
    },
    "language_info": {
      "name": "python"
    }
  },
  "cells": [
    {
      "cell_type": "code",
      "execution_count": null,
      "metadata": {
        "colab": {
          "base_uri": "https://localhost:8080/"
        },
        "id": "ogB1yAPCM3aU",
        "outputId": "ea80af09-7100-48e3-d4a6-476bf6d71ae2"
      },
      "outputs": [
        {
          "output_type": "stream",
          "name": "stdout",
          "text": [
            "[[False, True, True, True], [False, False, True, False], [False, False, False, False], [False, False, False, False]]\n",
            "[[False, True, True, True], [False, False, True, False], [True, False, False, False], [False, False, False, False]]\n",
            "[[False, True, True, True], [False, False, True, False], [True, False, False, True], [False, False, True, True]]\n"
          ]
        },
        {
          "output_type": "execute_result",
          "data": {
            "text/plain": [
              "3"
            ]
          },
          "metadata": {},
          "execution_count": 3
        }
      ],
      "source": [
        "def count_islands(matrix):\n",
        "    # DFS function to explore islands\n",
        "    def search_adjacent(matrix, i, j, visited):\n",
        "        if i < 0 or i >= len(matrix) or j < 0 or j >= len(matrix[0]) or visited[i][j] or matrix[i][j] == 0:\n",
        "            return\n",
        "\n",
        "        visited[i][j] = True\n",
        "      \n",
        "        search_adjacent(matrix, i+1, j, visited)\n",
        "        search_adjacent(matrix, i-1, j, visited)\n",
        "        search_adjacent(matrix, i, j+1, visited)\n",
        "        search_adjacent(matrix, i, j-1, visited)\n",
        "\n",
        "    visited = [[False for j in range(len(matrix[0]))] for i in range(len(matrix))]\n",
        "    count = 0\n",
        "    for i in range(len(matrix)):\n",
        "        for j in range(len(matrix[0])):\n",
        "            if matrix[i][j] == 1 and not visited[i][j]:\n",
        "                search_adjacent(matrix, i, j, visited)\n",
        "                print(visited)\n",
        "                count += 1\n",
        "    return count\n",
        "\n",
        "count_islands([[0, 1, 1, 1], \n",
        "               [0, 0, 1, 0], \n",
        "               [1, 0, 0, 1], \n",
        "               [0, 0, 1, 1]]) #Enter your matrix here"
      ]
    }
  ]
}